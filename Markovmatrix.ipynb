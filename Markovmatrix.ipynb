{
 "cells": [
  {
   "cell_type": "code",
   "execution_count": 1,
   "metadata": {},
   "outputs": [
    {
     "name": "stdout",
     "output_type": "stream",
     "text": [
      "[[0.2339, 0.7661], [0.7661, 0.2339]]\n"
     ]
    }
   ],
   "source": [
    "import random \n",
    "\n",
    "def markovtransition(x, probBgivenA, probAgivenB):\n",
    "    if x == 'a':\n",
    "        j = random.uniform(0,1)\n",
    "        if j <= probBgivenA:\n",
    "            return 'b'\n",
    "        else:\n",
    "            return 'a'\n",
    "    if x == 'b':\n",
    "        j = random.uniform(0,1)\n",
    "        if j <= probAgivenB:\n",
    "            return 'a'\n",
    "        else:\n",
    "            return 'b'\n",
    "        \n",
    "probBgivenA=0.25\n",
    "probAgivenB=0.80\n",
    "\n",
    "timestep = 40\n",
    "numoftrials = 10000\n",
    "\n",
    "def computepdfattimestept(probBgivenA, probAgivenB, timestep, numoftrials):\n",
    "    freqAtoB = 0\n",
    "    freqBtoA = 0\n",
    "    for i in range(numoftrials):\n",
    "        state1 = 'a'\n",
    "        state2 = 'b'\n",
    "        for i in range(timestep):\n",
    "            state1=markovtransition(state1, probBgivenA, probAgivenB)\n",
    "            state2=markovtransition(state2, probBgivenA, probAgivenB)\n",
    "        if (state1 == 'b'):\n",
    "            freqAtoB = freqAtoB+1\n",
    "        if (state1 == 'a'):\n",
    "            freqBtoA = freqBtoA+1\n",
    "    l = [[freqAtoB/numoftrials,1-freqAtoB/numoftrials],[freqBtoA/numoftrials,1-freqBtoA/numoftrials]]\n",
    "    return l\n",
    "            \n",
    "print(computepdfattimestept(probBgivenA, probAgivenB, timestep, numoftrials))"
   ]
  }
 ],
 "metadata": {
  "kernelspec": {
   "display_name": "Python 3",
   "language": "python",
   "name": "python3"
  },
  "language_info": {
   "codemirror_mode": {
    "name": "ipython",
    "version": 3
   },
   "file_extension": ".py",
   "mimetype": "text/x-python",
   "name": "python",
   "nbconvert_exporter": "python",
   "pygments_lexer": "ipython3",
   "version": "3.6.5"
  }
 },
 "nbformat": 4,
 "nbformat_minor": 2
}
